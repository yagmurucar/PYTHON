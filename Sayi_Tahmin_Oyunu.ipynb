{
  "nbformat": 4,
  "nbformat_minor": 0,
  "metadata": {
    "colab": {
      "provenance": [],
      "collapsed_sections": [],
      "authorship_tag": "ABX9TyNNPe9OEUpneT3CXTXzjtMp",
      "include_colab_link": true
    },
    "kernelspec": {
      "name": "python3",
      "display_name": "Python 3"
    },
    "language_info": {
      "name": "python"
    }
  },
  "cells": [
    {
      "cell_type": "markdown",
      "metadata": {
        "id": "view-in-github",
        "colab_type": "text"
      },
      "source": [
        "<a href=\"https://colab.research.google.com/github/yagmurucar/PYTHON/blob/main/Sayi_Tahmin_Oyunu.ipynb\" target=\"_parent\"><img src=\"https://colab.research.google.com/assets/colab-badge.svg\" alt=\"Open In Colab\"/></a>"
      ]
    },
    {
      "cell_type": "code",
      "execution_count": null,
      "metadata": {
        "colab": {
          "base_uri": "https://localhost:8080/"
        },
        "id": "E2O-iS0OGJky",
        "outputId": "783ffd3f-3642-4501-f279-573df75e9dfa"
      },
      "outputs": [
        {
          "output_type": "stream",
          "name": "stdout",
          "text": [
            "1 ile 100 arasında değer girin (0 çıkış):5\n",
            "Daha Yüksek Bir Sayı Girin.\n",
            "1 ile 100 arasında değer girin (0 çıkış):78\n",
            "Daha Yüksek Bir Sayı Girin.\n",
            "1 ile 100 arasında değer girin (0 çıkış):99\n",
            "Daha Düşük Bir Sayı Girin.\n",
            "1 ile 100 arasında değer girin (0 çıkış):95\n",
            "Daha Yüksek Bir Sayı Girin.\n",
            "1 ile 100 arasında değer girin (0 çıkış):96\n",
            "Daha Yüksek Bir Sayı Girin.\n",
            "1 ile 100 arasında değer girin (0 çıkış):97\n",
            "Rastele seçilen sayı 97!\n",
            "Tahmin sayınız 6\n",
            "1 ile 100 arasında değer girin (0 çıkış):0\n",
            "Oyunu İptal Ettiniz\n"
          ]
        }
      ],
      "source": [
        "from random import randint\n",
        " \n",
        "rand=randint(1, 100) #random rnd=new random(); sayi=rnd.next(1,20);\n",
        "sayac=0\n",
        " \n",
        "while True:\n",
        "    sayac+=1\n",
        "    sayi=int(input(\"1 ile 100 arasında değer girin (0 çıkış):\"))\n",
        "    if(sayi==0):\n",
        "        print(\"Oyunu İptal Ettiniz\")\n",
        "        break\n",
        "    elif sayi < rand:\n",
        "        print(\"Daha Yüksek Bir Sayı Girin.\")\n",
        "        continue\n",
        "    elif sayi > rand:\n",
        "        print(\"Daha Düşük Bir Sayı Girin.\")\n",
        "        continue\n",
        "    else:\n",
        "        print(\"Rastele seçilen sayı {0}!\".format(rand))\n",
        "        print(\"Tahmin sayınız {0}\".format(sayac))\n",
        "         "
      ]
    }
  ]
}