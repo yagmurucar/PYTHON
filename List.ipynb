{
  "cells": [
    {
      "cell_type": "markdown",
      "metadata": {
        "id": "view-in-github",
        "colab_type": "text"
      },
      "source": [
        "<a href=\"https://colab.research.google.com/github/yagmurucar/PYTHON/blob/main/List.ipynb\" target=\"_parent\"><img src=\"https://colab.research.google.com/assets/colab-badge.svg\" alt=\"Open In Colab\"/></a>"
      ]
    },
    {
      "cell_type": "code",
      "execution_count": null,
      "metadata": {
        "colab": {
          "base_uri": "https://localhost:8080/"
        },
        "id": "fL53hnqTa2IW",
        "outputId": "a5ab8e73-9392-4ed6-f1af-4145843c7e94"
      },
      "outputs": [
        {
          "name": "stdout",
          "output_type": "stream",
          "text": [
            "3 4\n"
          ]
        }
      ],
      "source": [
        "my_list = [1, 2, 3, 4, 5, 6]\n",
        "print(my_list[2], my_list[3])"
      ]
    },
    {
      "cell_type": "code",
      "execution_count": null,
      "metadata": {
        "colab": {
          "base_uri": "https://localhost:8080/"
        },
        "id": "vLglDhk_a4pe",
        "outputId": "bfdf09e6-9f90-4e63-b66e-0618774d9cad"
      },
      "outputs": [
        {
          "name": "stdout",
          "output_type": "stream",
          "text": [
            "15\n"
          ]
        }
      ],
      "source": [
        "Dizi = [5, 8, 15, 20, 25, 30,1]\n",
        "\n",
        "ortanca = sorted(Dizi)[len(Dizi)//2]\n",
        "print(ortanca)"
      ]
    },
    {
      "cell_type": "code",
      "execution_count": null,
      "metadata": {
        "colab": {
          "base_uri": "https://localhost:8080/"
        },
        "id": "gKsXuq7sa6AG",
        "outputId": "bff3ccb7-0d0d-4a8d-bab8-4f9f0bea01e4"
      },
      "outputs": [
        {
          "name": "stdout",
          "output_type": "stream",
          "text": [
            "d\n"
          ]
        }
      ],
      "source": [
        "dizi1=['a','b','c','d','e','g','f']\n",
        "ortanca=sorted(dizi1)[len(dizi1)//2]\n",
        "print(ortanca)"
      ]
    },
    {
      "cell_type": "code",
      "execution_count": null,
      "metadata": {
        "id": "z7UmgJXQa7Ld"
      },
      "outputs": [],
      "source": [
        "# pythonda kullanıcının terim saysının belirlediği bir dizideki ortanca terimi bulmak için nasıl bir yol izlersin ?\n",
        "\n",
        "# 1. Kullanıcının belirlediği diziyi bir değişkene atayın. Örneğin: dizi = [1, 2, 3, 4, 5, 6, 7]\n",
        "\n",
        "# 2. Dizinin uzunluğunu bulun. Örneğin: uzunluk = len (dizi)\n",
        "\n",
        "# 3. Dizinin ortancasını bulmak için uzunluğun yarısını hesaplayın. Örneğin: orta = uzunluk // 2\n",
        "\n",
        "# 4. Ortadaki terimin indeksini bulmak için orta değerini dizinin boyuna uygulayın. Örneğin, dizi [orta]\n",
        "\n",
        "# 5. Sonuç olarak ortadaki terim döndürülür. Örneğin: 4"
      ]
    },
    {
      "cell_type": "code",
      "execution_count": null,
      "metadata": {
        "colab": {
          "base_uri": "https://localhost:8080/"
        },
        "id": "Ja9gfybybDR1",
        "outputId": "197f885a-9015-40f3-aaf4-6d6a41c0fa38"
      },
      "outputs": [
        {
          "data": {
            "text/plain": [
              "['d', 'e']"
            ]
          },
          "execution_count": 1,
          "metadata": {},
          "output_type": "execute_result"
        }
      ],
      "source": [
        "dizi1=['a','b','c','d','e','g','f']\n",
        "dizi1[3:5]"
      ]
    },
    {
      "cell_type": "code",
      "execution_count": null,
      "metadata": {
        "colab": {
          "base_uri": "https://localhost:8080/"
        },
        "id": "WBnwK38eb3e1",
        "outputId": "ff34502e-4118-423e-ca57-3d76adb5848b"
      },
      "outputs": [
        {
          "data": {
            "text/plain": [
              "(4, 5, 6)"
            ]
          },
          "execution_count": 7,
          "metadata": {},
          "output_type": "execute_result"
        }
      ],
      "source": [
        "dizi1=1,2,3,4,5,6\n",
        "dizi1[3:]"
      ]
    },
    {
      "cell_type": "code",
      "execution_count": null,
      "metadata": {
        "colab": {
          "base_uri": "https://localhost:8080/"
        },
        "id": "igGlkOa1dAUd",
        "outputId": "b1915e2e-fac2-4ad9-ab70-0bb6d06b9c46"
      },
      "outputs": [
        {
          "output_type": "stream",
          "name": "stdout",
          "text": [
            "8 kere gir\n",
            "1\n",
            "2\n",
            "3\n",
            "4\n",
            "5\n",
            "6\n",
            "8\n",
            "5\n",
            "yeni liste : ['1', '2', '3', '4', '5', '6', '8', '5']\n",
            "5\n"
          ]
        }
      ],
      "source": [
        "dizi1=[]\n",
        "print(\"8 kere gir\")\n",
        "for i in range(8):\n",
        "  n=input()\n",
        "  dizi1.append(n)\n",
        "\n",
        "bir=dizi1[:4]\n",
        "iki=dizi1[4:]\n",
        "\n",
        "yenilist=bir+iki\n",
        "\n",
        "print(\"yeni liste :\",yenilist)\n",
        "\n",
        "ortanca = sorted(yenilist)[len(yenilist)//2]\n",
        "print(ortanca)\n"
      ]
    },
    {
      "cell_type": "code",
      "execution_count": null,
      "metadata": {
        "colab": {
          "base_uri": "https://localhost:8080/"
        },
        "id": "DQFH5MYzeF4d",
        "outputId": "89d07e90-2ee0-4b1d-b7c9-27362bf22515"
      },
      "outputs": [
        {
          "name": "stdout",
          "output_type": "stream",
          "text": [
            "dsgfsd\n"
          ]
        }
      ],
      "source": [
        "a=input(\"\")"
      ]
    }
  ],
  "metadata": {
    "colab": {
      "provenance": [],
      "toc_visible": true,
      "authorship_tag": "ABX9TyO7m+6ylEIO2+WO2QrsKVAG",
      "include_colab_link": true
    },
    "kernelspec": {
      "display_name": "Python 3",
      "name": "python3"
    },
    "language_info": {
      "name": "python"
    }
  },
  "nbformat": 4,
  "nbformat_minor": 0
}